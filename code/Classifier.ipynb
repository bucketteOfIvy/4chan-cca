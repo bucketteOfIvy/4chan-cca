{
 "cells": [
  {
   "cell_type": "markdown",
   "metadata": {},
   "source": [
    "<pre>\n",
    "<b>Author:</b> Ashlynn Wimer\n",
    "<b>Date:</b> 3/5/2024\n",
    "</pre>\n",
    "\n",
    "This notebook is used to actually classify my samples. In it, we build the model we'll use, explain the decision, and do a brief bit of error analysis."
   ]
  },
  {
   "cell_type": "code",
   "execution_count": 1,
   "metadata": {},
   "outputs": [],
   "source": [
    "from sklearn.neural_network import MLPClassifier\n",
    "from sklearn.metrics import roc_curve, roc_auc_score, classification_report\n",
    "from sklearn.svm import SVC\n",
    "from sklearn.ensemble import StackingClassifier\n",
    "from sklearn.ensemble import BaggingClassifier\n",
    "from sklearn.ensemble import GradientBoostingClassifier\n",
    "from sklearn.tree import DecisionTreeClassifier\n",
    "from sklearn.neural_network import MLPClassifier # Let's play with this\n",
    "from sklearn.linear_model import LogisticRegression\n",
    "\n",
    "import matplotlib.pyplot as plt\n",
    "import HelperChan \n",
    "import pandas as pd\n",
    "import numpy as np\n",
    "\n",
    "import warnings"
   ]
  },
  {
   "cell_type": "code",
   "execution_count": 2,
   "metadata": {},
   "outputs": [],
   "source": [
    "# Load in labeled data\n",
    "gpt_labeled_data = pd.concat([\n",
    "    pd.read_csv('../data/gpt_labeled.csv', index_col='Unnamed: 0'),\n",
    "    pd.read_csv('../data/gpt_labeled_2.csv', index_col='Unnamed: 0')\n",
    "], ignore_index=True)\n",
    "gpt_labeled_data['classification'] = gpt_labeled_data['gptlabels']\\\n",
    "    .apply(lambda x: 1 if x=='Yes' else 0)\n",
    "\n",
    "hand_labeled_posts = pd.concat(\n",
    "    [\n",
    "        pd.read_csv('../data/first_pass_labels.csv', index_col='Unnamed: 0'),\n",
    "        pd.read_csv('../data/lgbt_week_2_classified.csv', index_col='Unnamed: 0'),\n",
    "        pd.read_csv('../data/lgbt_week_3_classified.csv', index_col='Unnamed: 0')\n",
    "    ],\n",
    "    ignore_index=True\n",
    ").drop_duplicates() # there are none, but I'm paranoid\n",
    "\n",
    "# Load in docvecs\n",
    "docvecs = pd.read_csv('../data/docvecs.csv')\n",
    "gpt_docvecs = gpt_labeled_data.merge(docvecs, on='id')\n",
    "hand_docvecs = hand_labeled_posts.merge(docvecs, on='id')\n",
    "\n",
    "# Make a test-train split on handvecs\n",
    "hand_train = hand_docvecs[['docsvecs', 'classification']]\\\n",
    "    .sample(n=400, random_state=42)\n",
    "hand_test = hand_docvecs.drop(hand_train.index)\n",
    "\n",
    "# Create a modified training set\n",
    "modified_train = pd.concat([\n",
    "    gpt_docvecs[['docsvecs', 'classification']].sample(n=200, random_state=42),\n",
    "    hand_train\n",
    "])\n",
    "\n",
    "modified_train['docsvecs'] = modified_train['docsvecs']\\\n",
    "    .apply(HelperChan.very_good_ast_literal_eval)\\\n",
    "    .apply(np.array)\n",
    "\n",
    "vec_mod_train = np.stack(modified_train['docsvecs'])\n",
    "lab_mod_train = modified_train['classification']\n",
    "\n",
    "# Clean up our testing set\n",
    "vec_test = hand_test['docsvecs']\\\n",
    "    .apply(HelperChan.very_good_ast_literal_eval)\\\n",
    "    .apply(np.array)\n",
    "vec_test = np.stack(vec_test)\n",
    "lab_test = hand_test['classification']"
   ]
  },
  {
   "cell_type": "markdown",
   "metadata": {},
   "source": [
    "Hyperparameters and base estimator selection was conducted in a separate scratch notebook (not included in this repo due to its messiness) by way of mashing GridSearchCV at models until things worked."
   ]
  },
  {
   "cell_type": "code",
   "execution_count": 3,
   "metadata": {},
   "outputs": [],
   "source": [
    "base_estimators = [\n",
    "    ('SVC', SVC()),\n",
    "    ('BaggedLogistics', BaggingClassifier(estimator=LogisticRegression(), \n",
    "                                        max_features=.75, \n",
    "                                        max_samples=.75, \n",
    "                                        bootstrap_features=True, \n",
    "                                        n_estimators=10)),\n",
    "    ('GradientBoost', GradientBoostingClassifier()),\n",
    "    ('DecisionTree', DecisionTreeClassifier()),\n",
    "    ('LogisticRegression', LogisticRegression(C=0.5, \n",
    "                                l1_ratio=.25, \n",
    "                                penalty=None, \n",
    "                                solver='sag', \n",
    "                                tol=0.0001))\n",
    "]\n",
    "\n",
    "stack_clf = StackingClassifier(estimators=base_estimators, final_estimator=MLPClassifier(max_iter=1000))\n",
    "\n",
    "with warnings.catch_warnings(action='ignore'):\n",
    "    stack_clf.fit(vec_mod_train, lab_mod_train)"
   ]
  },
  {
   "cell_type": "code",
   "execution_count": 4,
   "metadata": {},
   "outputs": [
    {
     "name": "stdout",
     "output_type": "stream",
     "text": [
      "              precision    recall  f1-score   support\n",
      "\n",
      "           0       0.82      0.87      0.84        61\n",
      "           1       0.77      0.69      0.73        39\n",
      "\n",
      "    accuracy                           0.80       100\n",
      "   macro avg       0.79      0.78      0.79       100\n",
      "weighted avg       0.80      0.80      0.80       100\n",
      "\n"
     ]
    }
   ],
   "source": [
    "print(classification_report(lab_test, stack_clf.predict(vec_test)))"
   ]
  },
  {
   "cell_type": "markdown",
   "metadata": {},
   "source": [
    "Based on way too much playing with this, this is likely the best balance in performance I can hope for, so let's go with it and use this to classify all of our posts."
   ]
  },
  {
   "cell_type": "code",
   "execution_count": 5,
   "metadata": {},
   "outputs": [],
   "source": [
    "# Load in all posts\n",
    "all_posts = pd.concat(\n",
    "    [\n",
    "        pd.read_csv('../data/lgbt_week_1.csv'),\n",
    "        pd.read_csv('../data/lgbt_week_2.csv'),\n",
    "        pd.read_csv('../data/lgbt_week_3.csv')\n",
    "    ], ignore_index=True\n",
    ")\n",
    "\n",
    "all_docvecs = all_posts.merge(docvecs, on='id')\n",
    "\n",
    "all_docvecs['docsvecs'] = all_docvecs['docsvecs']\\\n",
    "    .apply(HelperChan.very_good_ast_literal_eval)\\\n",
    "    .apply(np.array)\n",
    "\n",
    "assert len(all_docvecs) == len(all_posts), 'Something is weird about your embeddings.'"
   ]
  },
  {
   "cell_type": "code",
   "execution_count": 6,
   "metadata": {},
   "outputs": [],
   "source": [
    "all_docvecs = all_docvecs.assign(\n",
    "    transRelated = lambda x: stack_clf.predict(np.stack(x['docsvecs']))\n",
    ")"
   ]
  },
  {
   "cell_type": "code",
   "execution_count": 7,
   "metadata": {},
   "outputs": [
    {
     "data": {
      "text/plain": [
       "0         0\n",
       "1         0\n",
       "2         0\n",
       "3         0\n",
       "4         1\n",
       "         ..\n",
       "187370    0\n",
       "187371    0\n",
       "187372    0\n",
       "187373    0\n",
       "187374    1\n",
       "Name: transRelated, Length: 187375, dtype: int64"
      ]
     },
     "execution_count": 7,
     "metadata": {},
     "output_type": "execute_result"
    }
   ],
   "source": [
    "all_docvecs['transRelated']"
   ]
  },
  {
   "cell_type": "code",
   "execution_count": 8,
   "metadata": {},
   "outputs": [],
   "source": [
    "all_docvecs.drop(columns=['docsvecs']).to_csv('../data/fully_labeled_data.csv')"
   ]
  }
 ],
 "metadata": {
  "kernelspec": {
   "display_name": "Python 3",
   "language": "python",
   "name": "python3"
  },
  "language_info": {
   "codemirror_mode": {
    "name": "ipython",
    "version": 3
   },
   "file_extension": ".py",
   "mimetype": "text/x-python",
   "name": "python",
   "nbconvert_exporter": "python",
   "pygments_lexer": "ipython3",
   "version": "3.11.4"
  }
 },
 "nbformat": 4,
 "nbformat_minor": 2
}
